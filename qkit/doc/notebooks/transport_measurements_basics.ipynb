{
 "cells": [
  {
   "cell_type": "markdown",
   "metadata": {},
   "source": [
    "# Example Notebook for transport measurements "
   ]
  },
  {
   "cell_type": "code",
   "execution_count": null,
   "metadata": {},
   "outputs": [],
   "source": [
    "import numpy\n",
    "import time\n",
    "import qkit\n",
    "from qkit.measure.transport import transport\n",
    "import qkit.measure.samples_class as sc"
   ]
  },
  {
   "cell_type": "markdown",
   "metadata": {},
   "source": [
    "## starting qkit"
   ]
  },
  {
   "cell_type": "code",
   "execution_count": null,
   "metadata": {},
   "outputs": [],
   "source": [
    "#qkit.cfg['datafolder_structure']=2\n",
    "qkit.cfg['run_id']='run_number'\n",
    "qkit.cfg['user']='User'\n",
    "qkit.start()"
   ]
  },
  {
   "cell_type": "markdown",
   "metadata": {},
   "source": [
    "### create measurement sample"
   ]
  },
  {
   "cell_type": "code",
   "execution_count": null,
   "metadata": {},
   "outputs": [],
   "source": [
    "sample = sc.Sample()\n",
    "sample.name = 'A0000#0'\n",
    "sample.comment = 'This sample looks promising.'\n",
    "sample.ports = 'I0to0_V0to0'\n",
    "print(sample.get_all())"
   ]
  },
  {
   "cell_type": "markdown",
   "metadata": {},
   "source": [
    "# Initialize transport and IV device"
   ]
  },
  {
   "cell_type": "code",
   "execution_count": null,
   "metadata": {},
   "outputs": [],
   "source": [
    "#Select and initialize Multi Channel Source Unit:\n",
    "#either\n",
    "IVD = qkit.instruments.create('IVD', 'Keithley', address='TCPIP0::00.00.000.00::INSTR', reset=True) #Keithley_2636A\n",
    "#or\n",
    "#IVD = qkit.instruments.create('IVD2', 'Yokogawa', address='TCPIP0::00.00.000.00::INSTR', reset=True) #Yokogawa_GS820\n",
    "\n",
    "#Microwave source:\n",
    "mw_src = qkit.instruments.create('mw_src','Anritsu_MG37022', address = 'TCPIP0::00.00.000.00::inst0::INSTR')\n",
    "\n",
    "#Temperature control\n",
    "tip = qkit.instruments.create('tip', 'TIP_client', address='IP address', port='PORT')"
   ]
  },
  {
   "cell_type": "code",
   "execution_count": null,
   "metadata": {},
   "outputs": [],
   "source": [
    "#Sample and port numbers:\n",
    "exp = sample.name+'_'+sample.ports # Sample_ports"
   ]
  },
  {
   "cell_type": "code",
   "execution_count": null,
   "metadata": {},
   "outputs": [],
   "source": [
    "#Reset and get settings \n",
    "IVD.reset()\n",
    "IVD.clear_error()\n",
    "IVD.set_defaults()\n",
    "IVD.get_all(channel=1)"
   ]
  },
  {
   "cell_type": "markdown",
   "metadata": {},
   "source": [
    "# 1D Scan"
   ]
  },
  {
   "cell_type": "code",
   "execution_count": null,
   "metadata": {},
   "outputs": [],
   "source": [
    "#####################################################################################################\n",
    "########################################## Current bias 1D ##########################################\n",
    "#####################################################################################################\n",
    "\n",
    "comment=\"\"\"%s: I-V curve\"\"\" % exp #set before - sample and ports for comment and dir\n",
    "\n",
    "nplc = 0 #Number of power line cycles\n",
    "avg = 0 #Average\n",
    "delay = 15e-6 #measurement delay\n",
    "\n",
    "tr.comment = comment\n",
    "dirname = exp\n",
    "\n",
    "dAdV = 0 #Voltage biased current source -> conversion factor (U -> I)\n",
    "amp = 0 #Preamplifier factor (e.g. 1e3)\n",
    "IVD.set_dAdV(dAdV)\n",
    "IVD.set_amp(amp)\n",
    "IVD.set_pseudo_bias_mode(0)\n",
    "\n",
    "#for voltage bias:\n",
    "#dVdA = .... amplification factor for voltage bias (e.g. 1e9) instead of dAdV \n",
    "#Vdiv = .... external voltage divider factor (e.g. 1e3) instead of amp\n",
    "#IVD.set_dVdA(dVdA) instead of IVD.set_dAdV(dAdV)\n",
    "#IVD.set_Vdiv(Vdiv) insteal of IVD.set_amp(amp)\n",
    "#IVD.set_pseudo_bias_mode(1) instead of IVD.set_pseudo_bias_mode(0) \n",
    "\n",
    "IVD.set_sweep_mode(0) # 0 (VV-mode) | 1 (IV-mode) | 2 (VI-mode)\n",
    "IVD.set_pseudo_bias_mode(0) # 0 (current bias) | 1 (voltage bias)\n",
    "IVD.set_sense_nplc(nplc, 1)\n",
    "IVD.set_sense_nplc(nplc, 2)\n",
    "\n",
    "\n",
    "tr.set_dVdI(True)\n",
    "tr.sweep.reset_sweeps()\n",
    "tr.add_sweep_4quadrants(start=0, stop=0, step=0, offset=0) # 4 quadrants sweep: start at zero -> stop -> zero -> -stop -> zero\n",
    "#tr.sweep.add_sweep(start=0, stop=0, step=0) # single sweep\n"
   ]
  },
  {
   "cell_type": "code",
   "execution_count": null,
   "metadata": {},
   "outputs": [],
   "source": [
    "tr.measure_1D() # start 1D scan"
   ]
  },
  {
   "cell_type": "markdown",
   "metadata": {},
   "source": [
    "# 2D scan"
   ]
  },
  {
   "cell_type": "code",
   "execution_count": null,
   "metadata": {},
   "outputs": [],
   "source": [
    "####################################################################################\n",
    "############################## Current bias 2D #####################################\n",
    "####################################################################################\n",
    "\n",
    "\n",
    "comment=\"\"\"%s: I-V curve\"\"\" % exp #set before - sample and ports for comment and dir\n",
    "\n",
    "nplc = 0 #Number of power line cycles\n",
    "avg = 0 #Average\n",
    "delay = 15e-6 #measurement delay\n",
    "\n",
    "tr.comment = comment\n",
    "dirname = exp\n",
    "\n",
    "dAdV = 0 #Voltage biased current source -> conversion factor (U -> I)\n",
    "amp = 0 #Preamplifier factor (e.g. 1e3)\n",
    "IVD.set_dAdV(dAdV)\n",
    "IVD.set_amp(amp)\n",
    "IVD.set_pseudo_bias_mode(0)\n",
    "\n",
    "#for voltage bias:\n",
    "#dVdA = .... amplification factor for voltage bias (e.g. 1e9) instead of dAdV \n",
    "#Vdiv = .... external voltage divider factor (e.g. 1e3) instead of amp\n",
    "#IVD.set_dVdA(dVdA) instead of IVD.set_dAdV(dAdV)\n",
    "#IVD.set_Vdiv(Vdiv) insteal of IVD.set_amp(amp)\n",
    "#IVD.set_pseudo_bias_mode(1) instead of IVD.set_pseudo_bias_mode(0) \n",
    "\n",
    "IVD.set_sweep_mode(0) # 0 (VV-mode) | 1 (IV-mode) | 2 (VI-mode)\n",
    "IVD.set_pseudo_bias_mode(0) # 0 (current bias) | 1 (voltage bias)\n",
    "IVD.set_sense_nplc(nplc, 1)\n",
    "IVD.set_sense_nplc(nplc, 2)\n",
    "\n",
    "tr.set_dVdI(True)\n",
    "tr.sweep.reset_sweeps()\n",
    "tr.add_sweep_4quadrants(start=0, stop=0, step=0, offset=0) # 4 quadrants sweep: start at zero -> stop -> zero -> -stop -> zero\n",
    "#tr.sweep.add_sweep(start=0, stop=0, step=0) # single sweep\n",
    "\n",
    "\n",
    "#example for 2D scan - power scan:\n",
    "mw_src.set_status(True)\n",
    "'''mw power scan'''\n",
    "freq = 0. # Set frequency \n",
    "mw_src.set_frequency(freq)\n",
    "\n",
    "def x_function(i):\n",
    "    mw_src.enable_high_power = False\n",
    "    mw_src.set_power(i)\n",
    "    time.sleep(0.01)\n",
    "    return\n",
    "\n",
    "tr.set_x_parameters(x_vec=numpy.arange(0,0,0), # (start,stop,step) \n",
    "                    x_coordname='power', \n",
    "                    x_set_obj=x_function, \n",
    "                    x_unit ='dBm')\n",
    "\n",
    "\n",
    "#log function, e.g. temperature tracking\n",
    "def get_T():\n",
    "    return tip.get_T()\n",
    "\n",
    "tr.set_log_function([get_T], ['temp'], ['K'], ['f'])"
   ]
  },
  {
   "cell_type": "code",
   "execution_count": null,
   "metadata": {},
   "outputs": [],
   "source": [
    "tr.measure_2D()"
   ]
  },
  {
   "cell_type": "markdown",
   "metadata": {},
   "source": [
    "# 3D scan"
   ]
  },
  {
   "cell_type": "code",
   "execution_count": null,
   "metadata": {},
   "outputs": [],
   "source": [
    "#####################################################################################################\n",
    "########################################## Current bias 3D #############################################\n",
    "#####################################################################################################\n",
    "\n",
    "comment=\"\"\"%s: I-V curve\"\"\" % exp #set before - sample and ports for comment and dir\n",
    "\n",
    "nplc = 0 #Number of power line cycles\n",
    "avg = 0 #Average\n",
    "delay = 15e-6 #measurement delay\n",
    "\n",
    "tr.comment = comment\n",
    "dirname = exp\n",
    "\n",
    "dAdV = 0 #Voltage biased current source -> conversion factor (U -> I)\n",
    "amp = 0 #Preamplifier factor (e.g. 1e3)\n",
    "IVD.set_dAdV(dAdV)\n",
    "IVD.set_amp(amp)\n",
    "IVD.set_pseudo_bias_mode(0)\n",
    "\n",
    "#for voltage bias:\n",
    "#dVdA = .... amplification factor for voltage bias (e.g. 1e9) instead of dAdV \n",
    "#Vdiv = .... external voltage divider factor (e.g. 1e3) instead of amp\n",
    "#IVD.set_dVdA(dVdA) instead of IVD.set_dAdV(dAdV)\n",
    "#IVD.set_Vdiv(Vdiv) insteal of IVD.set_amp(amp)\n",
    "#IVD.set_pseudo_bias_mode(1) instead of IVD.set_pseudo_bias_mode(0) \n",
    "\n",
    "IVD.set_sweep_mode(0) # 0 (VV-mode) | 1 (IV-mode) | 2 (VI-mode)\n",
    "IVD.set_pseudo_bias_mode(0) # 0 (current bias) | 1 (voltage bias)\n",
    "IVD.set_sense_nplc(nplc, 1)\n",
    "IVD.set_sense_nplc(nplc, 2)\n",
    "\n",
    "tr.set_dVdI(True)\n",
    "tr.sweep.reset_sweeps()\n",
    "tr.add_sweep_4quadrants(start=0, stop=0, step=0, offset=0) # 4 quadrants sweep: start at zero -> stop -> zero -> -stop -> zero\n",
    "#tr.sweep.add_sweep(start=0, stop=0, step=0) # single sweep\n",
    "\n",
    "#example for 3D mw scan - vary power and frequency:\n",
    "mw_src.set_status(True)\n",
    "'''mw power scan'''\n",
    "freq = 0. # Set frequency \n",
    "mw_src.set_frequency(freq)\n",
    "\n",
    "# power variation:\n",
    "def x_function(i):\n",
    "    mw_src.enable_high_power = False\n",
    "    mw_src.set_power(i)\n",
    "    time.sleep(0.01)\n",
    "    return\n",
    "\n",
    "tr.set_x_parameters(x_vec=numpy.arange(0,0,0), # (start,stop,step) \n",
    "                    x_coordname='power', \n",
    "                    x_set_obj=x_function, \n",
    "                    x_unit ='dBm')\n",
    "\n",
    "# frequency variation\n",
    "def y_function(i):\n",
    "    mw_src.set_status(True)\n",
    "    time.sleep(0.1)\n",
    "    mw_src.set_frequency(i)\n",
    "    return \n",
    "\n",
    "tr.set_y_parameters(y_vec=numpy.arange(0.0e9, 20.0e9, 1.0e9), #  (start, stop, step)        \n",
    "                    y_coordname='mw_frequency', \n",
    "                    y_set_obj=y_function, \n",
    "                    y_unit ='Hz')\n",
    "\n",
    "\n",
    "#log function, e.g. temperature tracking\n",
    "def get_T():\n",
    "    return tip.get_T()\n",
    "\n",
    "tr.set_log_function([get_T], ['temp'], ['K'], ['f'])"
   ]
  },
  {
   "cell_type": "code",
   "execution_count": null,
   "metadata": {},
   "outputs": [],
   "source": [
    "tr.measure_3D()"
   ]
  },
  {
   "cell_type": "markdown",
   "metadata": {},
   "source": [
    "# stop qkit"
   ]
  },
  {
   "cell_type": "code",
   "execution_count": null,
   "metadata": {},
   "outputs": [],
   "source": [
    "IVD.close()"
   ]
  },
  {
   "cell_type": "code",
   "execution_count": null,
   "metadata": {},
   "outputs": [],
   "source": [
    "exit()"
   ]
  }
 ],
 "metadata": {
  "kernelspec": {
   "display_name": "Python 2",
   "language": "python",
   "name": "python2"
  },
  "language_info": {
   "codemirror_mode": {
    "name": "ipython",
    "version": 2
   },
   "file_extension": ".py",
   "mimetype": "text/x-python",
   "name": "python",
   "nbconvert_exporter": "python",
   "pygments_lexer": "ipython2",
   "version": "2.7.14"
  }
 },
 "nbformat": 4,
 "nbformat_minor": 2
}
